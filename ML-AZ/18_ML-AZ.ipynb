{
 "cells": [
  {
   "cell_type": "code",
   "execution_count": 1,
   "metadata": {},
   "outputs": [],
   "source": [
    "# Thompson Sampling\n",
    "\n",
    "# Importing the libraries\n",
    "import numpy as np\n",
    "import matplotlib.pyplot as plt\n",
    "import pandas as pd"
   ]
  },
  {
   "cell_type": "code",
   "execution_count": 2,
   "metadata": {
    "scrolled": true
   },
   "outputs": [
    {
     "name": "stdout",
     "output_type": "stream",
     "text": [
      "      Ad 1  Ad 2  Ad 3  Ad 4  Ad 5  Ad 6  Ad 7  Ad 8  Ad 9  Ad 10\n",
      "0        1     0     0     0     1     0     0     0     1      0\n",
      "1        0     0     0     0     0     0     0     0     1      0\n",
      "2        0     0     0     0     0     0     0     0     0      0\n",
      "3        0     1     0     0     0     0     0     1     0      0\n",
      "4        0     0     0     0     0     0     0     0     0      0\n",
      "5        1     1     0     0     0     0     0     0     0      0\n",
      "6        0     0     0     1     0     0     0     0     0      0\n",
      "7        1     1     0     0     1     0     0     0     0      0\n",
      "8        0     0     0     0     0     0     0     0     0      0\n",
      "9        0     0     1     0     0     0     0     0     0      0\n",
      "10       0     0     0     0     0     0     0     0     0      0\n",
      "11       0     0     0     0     0     0     0     0     0      0\n",
      "12       0     0     0     1     0     0     0     0     0      0\n",
      "13       0     0     0     0     0     0     0     0     1      0\n",
      "14       0     0     0     0     0     0     0     1     0      0\n",
      "15       0     0     0     0     1     0     0     1     0      0\n",
      "16       0     0     0     0     0     0     0     0     0      0\n",
      "17       0     0     0     0     0     0     0     0     0      0\n",
      "18       0     0     0     0     0     0     0     1     0      0\n",
      "19       0     0     0     0     0     0     0     0     1      0\n",
      "20       0     1     0     0     0     0     0     1     0      0\n",
      "21       0     0     0     0     1     0     0     0     0      1\n",
      "22       0     0     0     0     0     0     0     0     0      0\n",
      "23       0     0     0     0     0     0     0     1     1      0\n",
      "24       0     0     0     0     1     0     1     1     0      0\n",
      "25       0     0     0     0     0     0     0     0     0      0\n",
      "26       0     1     0     0     1     0     0     1     0      0\n",
      "27       0     1     0     1     0     0     0     0     0      0\n",
      "28       0     0     0     0     0     0     0     0     0      0\n",
      "29       0     0     0     0     1     0     0     1     1      0\n",
      "...    ...   ...   ...   ...   ...   ...   ...   ...   ...    ...\n",
      "9970     0     0     0     0     0     0     0     0     0      0\n",
      "9971     0     0     0     0     0     0     0     1     0      0\n",
      "9972     0     0     0     0     0     0     0     0     0      0\n",
      "9973     0     0     0     0     1     0     0     0     0      0\n",
      "9974     0     0     0     0     0     0     0     1     1      0\n",
      "9975     0     0     0     0     1     0     1     0     1      0\n",
      "9976     0     0     0     0     1     0     0     1     0      0\n",
      "9977     0     1     0     0     1     0     1     0     0      0\n",
      "9978     0     0     0     0     1     0     0     0     0      0\n",
      "9979     0     0     1     0     0     0     1     0     0      0\n",
      "9980     1     1     0     1     0     0     0     0     0      0\n",
      "9981     0     0     0     0     0     0     0     0     0      0\n",
      "9982     0     1     0     0     0     0     0     0     0      0\n",
      "9983     0     0     0     0     1     0     0     1     1      0\n",
      "9984     0     0     0     0     1     0     0     0     0      0\n",
      "9985     0     0     0     0     0     0     0     1     0      0\n",
      "9986     0     0     0     0     1     0     0     0     0      0\n",
      "9987     0     0     0     0     1     0     0     0     0      0\n",
      "9988     1     0     0     0     1     0     0     0     0      0\n",
      "9989     0     0     0     0     0     0     0     0     0      0\n",
      "9990     0     0     0     1     0     0     0     0     0      0\n",
      "9991     0     1     0     1     1     0     1     0     0      0\n",
      "9992     0     0     0     1     0     0     1     0     0      0\n",
      "9993     0     0     0     0     1     0     0     0     1      0\n",
      "9994     0     0     1     0     0     0     0     0     1      0\n",
      "9995     0     0     1     0     0     0     0     1     0      0\n",
      "9996     0     0     0     0     0     0     0     0     0      0\n",
      "9997     0     0     0     0     0     0     0     0     0      0\n",
      "9998     1     0     0     0     0     0     0     1     0      0\n",
      "9999     0     1     0     0     0     0     0     0     0      0\n",
      "\n",
      "[10000 rows x 10 columns]\n"
     ]
    }
   ],
   "source": [
    "# Importing the dataset\n",
    "rawdata = pd.read_csv('Ads_CTR_Optimisation.csv')\n",
    "print(rawdata)"
   ]
  },
  {
   "cell_type": "code",
   "execution_count": 3,
   "metadata": {},
   "outputs": [],
   "source": [
    "# Implementing Thompson Sampling\n",
    "import random\n",
    "N = 10000\n",
    "d = 10\n",
    "ads_selected = []\n",
    "numbers_of_rewards_1 = [0] * d\n",
    "numbers_of_rewards_0 = [0] * d\n",
    "total_reward = 0\n",
    "for n in range(0, N):\n",
    "    ad = 0\n",
    "    max_random = 0\n",
    "    for i in range(0, d):\n",
    "        random_beta = random.betavariate(numbers_of_rewards_1[i] + 1, numbers_of_rewards_0[i] + 1)\n",
    "        if (random_beta > max_random):\n",
    "            max_random = random_beta\n",
    "            ad = i\n",
    "    ads_selected.append(ad)\n",
    "    reward = rawdata.values[n, ad]\n",
    "    if (reward == 1):\n",
    "        numbers_of_rewards_1[ad] = numbers_of_rewards_1[ad] + 1\n",
    "    else:\n",
    "        numbers_of_rewards_0[ad] = numbers_of_rewards_0[ad] + 1\n",
    "    total_reward = total_reward + reward"
   ]
  },
  {
   "cell_type": "code",
   "execution_count": 4,
   "metadata": {},
   "outputs": [
    {
     "data": {
      "image/png": "[encoded data removed]",
      "text/plain": [
       "<Figure size 432x288 with 1 Axes>"
      ]
     },
     "metadata": {
      "needs_background": "light"
     },
     "output_type": "display_data"
    }
   ],
   "source": [
    "# Visualising the results\n",
    "plt.hist(ads_selected)\n",
    "plt.title('Histogram of Ads Selections')\n",
    "plt.xlabel('Ads')\n",
    "plt.ylabel('Number of times each ad was selected')\n",
    "plt.show()"
   ]
  }
 ],
 "metadata": {
  "kernelspec": {
   "display_name": "Python 3",
   "language": "python",
   "name": "python3"
  },
  "language_info": {
   "codemirror_mode": {
    "name": "ipython",
    "version": 3
   },
   "file_extension": ".py",
   "mimetype": "text/x-python",
   "name": "python",
   "nbconvert_exporter": "python",
   "pygments_lexer": "ipython3",
   "version": "3.6.8"
  }
 },
 "nbformat": 4,
 "nbformat_minor": 2
}
